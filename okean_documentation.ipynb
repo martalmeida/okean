{
 "cells": [
  {
   "cell_type": "markdown",
   "metadata": {},
   "source": [
    "##OKEAN\n",
    "\n",
    "Ocean modelling and analysis tools\n",
    "\n",
    "Documentation:\n",
    " \n",
    " <!--[documentation](https://github.com/martalmeida/okean/blob/master/okean_documentation.ipynb)\n",
    " -->\n",
    "\n",
    "* data io\n",
    "    * [netcdf](https://github.com/martalmeida/okean/tree/master/okean/documentation/okean_netcdf.ipynb) - netcdf tools\n",
    "    * [grib](https://github.com/martalmeida/okean/tree/master/okean/documentation/okean_gribu.ipynb) - grib tools\n",
    "    \n",
    "* visualisation:\n",
    "    * [vis](https://github.com/martalmeida/okean/tree/master/okean/documentation/okean_vis.ipynb) - produce complex plots (including maps) very easily\n",
    "    * [etc]\n",
    "    * [etc]\n",
    "    \n",
    "* ROMS model tools:\n",
    "    * [slices](https://github.com/martalmeida/okean/tree/master/okean/documentation/okean_roms_slices.ipynb) - slicing ROMS input/output\n",
    "    * [glider](https://github.com/martalmeida/okean/tree/master/okean/documentation/okean_roms_glider.ipynb) - extracting x,y,t data from ROMS\n",
    "    * [etc]\n",
    "    \n",
    "* Etc\n",
    "    * [etc]\n",
    "\n",
    "[okean src](https://github.com/martalmeida/okean/)\n"
   ]
  }
 ],
 "metadata": {
  "kernelspec": {
   "display_name": "Python 2",
   "language": "python",
   "name": "python2"
  },
  "language_info": {
   "codemirror_mode": {
    "name": "ipython",
    "version": 2
   },
   "file_extension": ".py",
   "mimetype": "text/x-python",
   "name": "python",
   "nbconvert_exporter": "python",
   "pygments_lexer": "ipython2",
   "version": "2.7.10"
  }
 },
 "nbformat": 4,
 "nbformat_minor": 0
}
